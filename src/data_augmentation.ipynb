{
 "cells": [
  {
   "cell_type": "code",
   "execution_count": null,
   "metadata": {},
   "outputs": [],
   "source": [
    "import numpy as np\n",
    "import cv2, tqdm, glob, os, random\n",
    "from multiprocessing import Pool\n",
    "import matplotlib.pyplot as plt\n",
    "from PIL import Image\n",
    "from typing import Sequence\n",
    "\n",
    "from torchvision import transforms\n",
    "import torch\n",
    "import torchvision.transforms.functional as TF"
   ]
  },
  {
   "cell_type": "code",
   "execution_count": null,
   "metadata": {},
   "outputs": [],
   "source": [
    "train_files = glob.glob('./dataset/train/good/*')\n",
    "train_files = np.array(train_files)\n",
    "\n",
    "def read_img(path) :\n",
    "    img = cv2.imread(path)\n",
    "    return img\n",
    "\n",
    "with Pool(processes = 16) as p:\n",
    "    train_pic = list(tqdm.tqdm(p.imap(read_img, train_files, chunksize=100), total = len(train_files)))\n",
    "    \n",
    "plt.subplot(2, 3, 1)\n",
    "img = Image.fromarray(train_pic[0].astype(np.uint8))\n",
    "plt.imshow(img)\n",
    "\n",
    "print(train_pic[0].shape)\n",
    "print(type(train_pic[0]))\n",
    "to_tensor = transforms.ToPILImage()\n",
    "temp = to_tensor(train_pic[0])\n",
    "print(type(temp))"
   ]
  },
  {
   "cell_type": "code",
   "execution_count": null,
   "metadata": {},
   "outputs": [],
   "source": [
    "class MyRotateTransform:\n",
    "    def __init__(self, angles: Sequence[int]):\n",
    "        self.angles = angles\n",
    "\n",
    "    def __call__(self, x):\n",
    "        angle = random.choice(self.angles)\n",
    "        return TF.rotate(x, angle)\n",
    "\n",
    "transform = transforms.Compose([\n",
    "    transforms.ColorJitter(brightness=[0.9, 1.1], contrast=0.5, saturation=0.5), # , hue=0.25\n",
    "    transforms.RandomOrder([\n",
    "        transforms.RandomHorizontalFlip(p = 0.9), \n",
    "        transforms.RandomVerticalFlip(p = 0.9), \n",
    "        # transforms.RandomRotation([0, 90,180,270])\n",
    "        MyRotateTransform( [0, 90, 180, 270])\n",
    "    ]) \n",
    "])\n",
    "\n",
    "temp = to_tensor(train_pic[0])\n",
    "temp = transform(temp)\n",
    "# temp.save('temp.jpg')\n",
    "print(type(temp))\n",
    "plt.subplot(1, 2, 1)\n",
    "img = Image.fromarray(train_pic[0].astype(np.uint8))\n",
    "plt.imshow(img)\n",
    "plt.subplot(1, 2, 2)\n",
    "plt.imshow(temp)"
   ]
  },
  {
   "cell_type": "code",
   "execution_count": null,
   "metadata": {},
   "outputs": [],
   "source": [
    "np.random.seed(69)\n",
    "choice = np.arange(len(train_pic))\n",
    "choice = np.random.choice(choice, 500, )\n",
    "for i in range(len(choice)) :\n",
    "    temp = to_tensor(train_pic[i])\n",
    "    temp = transform(temp)\n",
    "    plt.imshow(temp)\n",
    "    temp.save('./dataset/train/good/new_{}.jpg'.format(i))"
   ]
  },
  {
   "cell_type": "code",
   "execution_count": null,
   "metadata": {},
   "outputs": [],
   "source": []
  }
 ],
 "metadata": {
  "kernelspec": {
   "display_name": "jupyterlab",
   "language": "python",
   "name": "jupyterlab"
  },
  "language_info": {
   "codemirror_mode": {
    "name": "ipython",
    "version": 3
   },
   "file_extension": ".py",
   "mimetype": "text/x-python",
   "name": "python",
   "nbconvert_exporter": "python",
   "pygments_lexer": "ipython3",
   "version": "3.9.13"
  },
  "orig_nbformat": 4
 },
 "nbformat": 4,
 "nbformat_minor": 2
}
